{
 "cells": [
  {
   "cell_type": "code",
   "execution_count": 4,
   "metadata": {},
   "outputs": [
    {
     "name": "stdout",
     "output_type": "stream",
     "text": [
      "Requirement already satisfied: mysql.connector in c:\\users\\annisa intan nuraini\\appdata\\local\\programs\\python\\python312\\lib\\site-packages (2.2.9)\n",
      "Note: you may need to restart the kernel to use updated packages.\n"
     ]
    },
    {
     "name": "stderr",
     "output_type": "stream",
     "text": [
      "\n",
      "[notice] A new release of pip is available: 23.3.1 -> 24.0\n",
      "[notice] To update, run: python.exe -m pip install --upgrade pip\n"
     ]
    }
   ],
   "source": [
    "pip install mysql.connector"
   ]
  },
  {
   "cell_type": "code",
   "execution_count": 5,
   "metadata": {},
   "outputs": [
    {
     "name": "stdout",
     "output_type": "stream",
     "text": [
      "Requirement already satisfied: ahpy in c:\\users\\annisa intan nuraini\\appdata\\local\\programs\\python\\python312\\lib\\site-packages (2.0)Note: you may need to restart the kernel to use updated packages.\n"
     ]
    },
    {
     "name": "stderr",
     "output_type": "stream",
     "text": [
      "\n",
      "[notice] A new release of pip is available: 23.3.1 -> 24.0\n",
      "[notice] To update, run: python.exe -m pip install --upgrade pip\n"
     ]
    },
    {
     "name": "stdout",
     "output_type": "stream",
     "text": [
      "\n",
      "Requirement already satisfied: numpy in c:\\users\\annisa intan nuraini\\appdata\\local\\programs\\python\\python312\\lib\\site-packages (from ahpy) (1.26.2)\n",
      "Requirement already satisfied: scipy in c:\\users\\annisa intan nuraini\\appdata\\local\\programs\\python\\python312\\lib\\site-packages (from ahpy) (1.13.0)\n"
     ]
    }
   ],
   "source": [
    "pip install ahpy"
   ]
  },
  {
   "cell_type": "code",
   "execution_count": 6,
   "metadata": {},
   "outputs": [
    {
     "name": "stdout",
     "output_type": "stream",
     "text": [
      "Criteria Rows: [('harga',), ('kinerja',), ('keamanan',), ('kapasitas baterai',), ('kenyamanan',), ('tingkat penjualan',)]\n",
      "Alternative Rows: [('Hyundai Ioniq 5 Prime Standard',), ('Wuling Air EV Standard',), ('Toyota BZ4X Panoramic Roof (One Tone Color)',), ('Nissan Leaf One Toned',), ('Lexus UX 300e',), ('Kia EV6 GT Line',), ('Mercedes–Benz EQA 250',), ('BMW iX',), ('Citroen E-C4',), ('Air EV Long',), ('BZ4X Panoramic Roof',), ('Nissan Leaf',), ('Mercedes-Benz EQS 450',), ('BMW i7',), ('Tesla Model Y',), ('Tesla Model Y Long Range',)]\n"
     ]
    }
   ],
   "source": [
    "import mysql.connector\n",
    "import ahpy\n",
    "\n",
    "# Connect to the MySQL database\n",
    "connection = mysql.connector.connect(\n",
    "    host='localhost',\n",
    "    user='root',\n",
    "    password='',\n",
    "    database='electric_car'\n",
    ")\n",
    "cursor = connection.cursor()\n",
    "\n",
    "# Fetch criteria and alternatives from the database\n",
    "cursor.execute(\"SELECT DISTINCT criterion1 FROM criteria_comparisons UNION SELECT DISTINCT criterion2 FROM criteria_comparisons\")\n",
    "criteria_rows = cursor.fetchall()\n",
    "print(\"Criteria Rows:\", criteria_rows)  # Debugging: print criteria rows\n",
    "\n",
    "criterias = [row[0] for row in criteria_rows]\n",
    "\n",
    "cursor.execute(\"SELECT DISTINCT alternative1 FROM alternative_comparisons UNION SELECT DISTINCT alternative2 FROM alternative_comparisons\")\n",
    "alternative_rows = cursor.fetchall()\n",
    "print(\"Alternative Rows:\", alternative_rows)  # Debugging: print alternative rows\n",
    "\n",
    "alternatives = [row[0] for row in alternative_rows]\n",
    "\n",
    "# Fetch criteria comparisons from the database\n",
    "cursor.execute(\"SELECT criterion1, criterion2, crit_value FROM criteria_comparisons\")\n",
    "criteria_comparisons = {(row[0], row[1]): row[2] for row in cursor.fetchall()}\n",
    "\n",
    "# Fetch alternative comparisons from the database\n",
    "cursor.execute(\"SELECT criterion, alternative1, alternative2, alt_value FROM alternative_comparisons\")\n",
    "alternative_comparisons = {}\n",
    "for row in cursor.fetchall():\n",
    "    criterion, alternative1, alternative2, value = row\n",
    "    if criterion not in alternative_comparisons:\n",
    "        alternative_comparisons[criterion] = {}\n",
    "    alternative_comparisons[criterion][(alternative1, alternative2)] = value\n",
    "\n",
    "# Close the database connection\n",
    "connection.close()\n",
    "\n",
    "# Create the AHP model for criteria\n",
    "criteria_ahp = ahpy.Compare('Criteria', criteria_comparisons, precision=3)\n",
    "\n",
    "# Create the AHP models for alternatives with respect to each criterion\n",
    "alternative_ahp = {}\n",
    "for criterion in criterias:\n",
    "    alternative_ahp[criterion] = ahpy.Compare(criterion, alternative_comparisons[criterion], precision=3)\n",
    "\n",
    "# Combine the criteria and alternative priorities to calculate the overall scores\n",
    "overall_scores = {}\n",
    "for alt in alternatives:\n",
    "    overall_scores[alt] = sum(criteria_ahp.target_weights[crit] * alternative_ahp[crit].target_weights[alt] for crit in criterias)\n"
   ]
  },
  {
   "cell_type": "code",
   "execution_count": 7,
   "metadata": {},
   "outputs": [
    {
     "name": "stdout",
     "output_type": "stream",
     "text": [
      "Overall Scores: {'Hyundai Ioniq 5 Prime Standard': 0.06445100000000001, 'Wuling Air EV Standard': 0.076153, 'Toyota BZ4X Panoramic Roof (One Tone Color)': 0.018664999999999998, 'Nissan Leaf One Toned': 0.042092000000000004, 'Lexus UX 300e': 0.036399999999999995, 'Kia EV6 GT Line': 0.030398, 'Mercedes–Benz EQA 250': 0.040816000000000005, 'BMW iX': 0.03096, 'Citroen E-C4': 0.057754999999999994, 'Air EV Long': 0.221266, 'BZ4X Panoramic Roof': 0.050203, 'Nissan Leaf': 0.054644000000000005, 'Mercedes-Benz EQS 450': 0.044923000000000005, 'BMW i7': 0.040892, 'Tesla Model Y': 0.118534, 'Tesla Model Y Long Range': 0.072841}\n"
     ]
    }
   ],
   "source": [
    "# Insert results into the database\n",
    "connection = mysql.connector.connect(\n",
    "    host='localhost',\n",
    "    user='root',\n",
    "    password='',\n",
    "    database='electric_car'\n",
    ")\n",
    "cursor = connection.cursor()\n",
    "\n",
    "cursor.execute(\"DELETE FROM ahp_results\")\n",
    "for idx, (alternative, score) in enumerate(sorted(overall_scores.items(), key=lambda item: item[1], reverse=True), start=1):\n",
    "    cursor.execute(\"INSERT INTO ahp_results (id, alternative, score) VALUES (%s, %s, %s)\", (idx, alternative, float(score)))\n",
    "\n",
    "# Commit the transaction\n",
    "connection.commit()\n",
    "connection.close()\n",
    "\n",
    "# Print overall scores for debugging\n",
    "print(\"Overall Scores:\", overall_scores)"
   ]
  }
 ],
 "metadata": {
  "kernelspec": {
   "display_name": "Python 3",
   "language": "python",
   "name": "python3"
  },
  "language_info": {
   "codemirror_mode": {
    "name": "ipython",
    "version": 3
   },
   "file_extension": ".py",
   "mimetype": "text/x-python",
   "name": "python",
   "nbconvert_exporter": "python",
   "pygments_lexer": "ipython3",
   "version": "3.12.1"
  }
 },
 "nbformat": 4,
 "nbformat_minor": 2
}
