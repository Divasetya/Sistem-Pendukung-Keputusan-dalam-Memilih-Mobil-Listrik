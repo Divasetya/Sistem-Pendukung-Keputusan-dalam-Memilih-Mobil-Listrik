{
 "cells": [
  {
   "cell_type": "code",
   "execution_count": 1,
   "metadata": {},
   "outputs": [
    {
     "name": "stdout",
     "output_type": "stream",
     "text": [
      "Collecting mysql.connector\n",
      "  Downloading mysql-connector-2.2.9.tar.gz (11.9 MB)\n",
      "     ---------------------------------------- 0.0/11.9 MB ? eta -:--:--\n",
      "     ---------------------------------------- 0.0/11.9 MB ? eta -:--:--\n",
      "     ---------------------------------------- 0.0/11.9 MB ? eta -:--:--\n",
      "     --------------------------------------- 0.1/11.9 MB 469.7 kB/s eta 0:00:26\n",
      "     --------------------------------------- 0.1/11.9 MB 656.4 kB/s eta 0:00:18\n",
      "     --------------------------------------- 0.1/11.9 MB 778.5 kB/s eta 0:00:16\n",
      "      --------------------------------------- 0.3/11.9 MB 1.1 MB/s eta 0:00:11\n",
      "     - -------------------------------------- 0.4/11.9 MB 1.3 MB/s eta 0:00:09\n",
      "     - -------------------------------------- 0.5/11.9 MB 1.6 MB/s eta 0:00:08\n",
      "     -- ------------------------------------- 0.6/11.9 MB 1.7 MB/s eta 0:00:07\n",
      "     -- ------------------------------------- 0.7/11.9 MB 1.7 MB/s eta 0:00:07\n",
      "     -- ------------------------------------- 0.9/11.9 MB 1.8 MB/s eta 0:00:07\n",
      "     --- ------------------------------------ 1.0/11.9 MB 1.9 MB/s eta 0:00:06\n",
      "     --- ------------------------------------ 1.1/11.9 MB 2.0 MB/s eta 0:00:06\n",
      "     ---- ----------------------------------- 1.2/11.9 MB 2.0 MB/s eta 0:00:06\n",
      "     ---- ----------------------------------- 1.4/11.9 MB 2.1 MB/s eta 0:00:06\n",
      "     ----- ---------------------------------- 1.5/11.9 MB 2.1 MB/s eta 0:00:05\n",
      "     ----- ---------------------------------- 1.6/11.9 MB 2.2 MB/s eta 0:00:05\n",
      "     ------ --------------------------------- 1.8/11.9 MB 2.2 MB/s eta 0:00:05\n",
      "     ------ --------------------------------- 1.8/11.9 MB 2.3 MB/s eta 0:00:05\n",
      "     ------ --------------------------------- 1.9/11.9 MB 2.2 MB/s eta 0:00:05\n",
      "     ------- -------------------------------- 2.2/11.9 MB 2.3 MB/s eta 0:00:05\n",
      "     ------- -------------------------------- 2.2/11.9 MB 2.3 MB/s eta 0:00:05\n",
      "     ------- -------------------------------- 2.2/11.9 MB 2.3 MB/s eta 0:00:05\n",
      "     -------- ------------------------------- 2.5/11.9 MB 2.3 MB/s eta 0:00:04\n",
      "     -------- ------------------------------- 2.5/11.9 MB 2.3 MB/s eta 0:00:05\n",
      "     -------- ------------------------------- 2.6/11.9 MB 2.3 MB/s eta 0:00:05\n",
      "     --------- ------------------------------ 2.8/11.9 MB 2.3 MB/s eta 0:00:04\n",
      "     ---------- ----------------------------- 3.0/11.9 MB 2.3 MB/s eta 0:00:04\n",
      "     ---------- ----------------------------- 3.1/11.9 MB 2.3 MB/s eta 0:00:04\n",
      "     ----------- ---------------------------- 3.3/11.9 MB 2.4 MB/s eta 0:00:04\n",
      "     ----------- ---------------------------- 3.3/11.9 MB 2.4 MB/s eta 0:00:04\n",
      "     ----------- ---------------------------- 3.5/11.9 MB 2.4 MB/s eta 0:00:04\n",
      "     ------------ --------------------------- 3.7/11.9 MB 2.4 MB/s eta 0:00:04\n",
      "     ------------ --------------------------- 3.8/11.9 MB 2.4 MB/s eta 0:00:04\n",
      "     ------------- -------------------------- 4.0/11.9 MB 2.5 MB/s eta 0:00:04\n",
      "     -------------- ------------------------- 4.3/11.9 MB 2.5 MB/s eta 0:00:03\n",
      "     -------------- ------------------------- 4.4/11.9 MB 2.6 MB/s eta 0:00:03\n",
      "     ---------------- ----------------------- 4.7/11.9 MB 2.7 MB/s eta 0:00:03\n",
      "     ---------------- ----------------------- 4.9/11.9 MB 2.7 MB/s eta 0:00:03\n",
      "     ----------------- ---------------------- 5.1/11.9 MB 2.8 MB/s eta 0:00:03\n",
      "     ------------------ --------------------- 5.5/11.9 MB 2.9 MB/s eta 0:00:03\n",
      "     ------------------ --------------------- 5.6/11.9 MB 2.9 MB/s eta 0:00:03\n",
      "     -------------------- ------------------- 6.0/11.9 MB 3.0 MB/s eta 0:00:02\n",
      "     -------------------- ------------------- 6.2/11.9 MB 3.0 MB/s eta 0:00:02\n",
      "     --------------------- ------------------ 6.4/11.9 MB 3.0 MB/s eta 0:00:02\n",
      "     ---------------------- ----------------- 6.6/11.9 MB 3.1 MB/s eta 0:00:02\n",
      "     ---------------------- ----------------- 6.6/11.9 MB 3.0 MB/s eta 0:00:02\n",
      "     ---------------------- ----------------- 6.7/11.9 MB 3.0 MB/s eta 0:00:02\n",
      "     ----------------------- ---------------- 6.9/11.9 MB 3.1 MB/s eta 0:00:02\n",
      "     ------------------------ --------------- 7.2/11.9 MB 3.1 MB/s eta 0:00:02\n",
      "     ------------------------ --------------- 7.2/11.9 MB 3.1 MB/s eta 0:00:02\n",
      "     ------------------------ --------------- 7.4/11.9 MB 3.1 MB/s eta 0:00:02\n",
      "     -------------------------- ------------- 7.8/11.9 MB 3.2 MB/s eta 0:00:02\n",
      "     -------------------------- ------------- 7.9/11.9 MB 3.2 MB/s eta 0:00:02\n",
      "     ---------------------------- ----------- 8.3/11.9 MB 3.3 MB/s eta 0:00:02\n",
      "     ----------------------------- ---------- 8.7/11.9 MB 3.3 MB/s eta 0:00:01\n",
      "     ------------------------------ --------- 9.0/11.9 MB 3.4 MB/s eta 0:00:01\n",
      "     ------------------------------- -------- 9.3/11.9 MB 3.4 MB/s eta 0:00:01\n",
      "     -------------------------------- ------- 9.6/11.9 MB 3.5 MB/s eta 0:00:01\n",
      "     ---------------------------------- ----- 10.1/11.9 MB 3.6 MB/s eta 0:00:01\n",
      "     ----------------------------------- ---- 10.4/11.9 MB 3.9 MB/s eta 0:00:01\n",
      "     ------------------------------------ --- 10.8/11.9 MB 4.0 MB/s eta 0:00:01\n",
      "     ------------------------------------- -- 11.2/11.9 MB 4.2 MB/s eta 0:00:01\n",
      "     -------------------------------------- - 11.4/11.9 MB 4.3 MB/s eta 0:00:01\n",
      "     ---------------------------------------  11.8/11.9 MB 4.5 MB/s eta 0:00:01\n",
      "     ---------------------------------------  11.8/11.9 MB 4.5 MB/s eta 0:00:01\n",
      "     ---------------------------------------- 11.9/11.9 MB 4.2 MB/s eta 0:00:00\n",
      "  Installing build dependencies: started\n",
      "  Installing build dependencies: finished with status 'done'\n",
      "  Getting requirements to build wheel: started\n",
      "  Getting requirements to build wheel: finished with status 'done'\n",
      "  Preparing metadata (pyproject.toml): started\n",
      "  Preparing metadata (pyproject.toml): finished with status 'done'\n",
      "Building wheels for collected packages: mysql.connector\n",
      "  Building wheel for mysql.connector (pyproject.toml): started\n",
      "  Building wheel for mysql.connector (pyproject.toml): finished with status 'done'\n",
      "  Created wheel for mysql.connector: filename=mysql_connector-2.2.9-cp312-cp312-win_amd64.whl size=247958 sha256=1a36a64bb96f2444d696614c0a234d4d94e5d7c7f43e384b04dd4af9a98073c6\n",
      "  Stored in directory: c:\\users\\annisa intan nuraini\\appdata\\local\\pip\\cache\\wheels\\03\\17\\fa\\d7604c72dd3dd6d3eb3d249abf36cc532c9a9b4354b8f1bc4f\n",
      "Successfully built mysql.connector\n",
      "Installing collected packages: mysql.connector\n",
      "Successfully installed mysql.connector-2.2.9\n",
      "Note: you may need to restart the kernel to use updated packages.\n"
     ]
    },
    {
     "name": "stderr",
     "output_type": "stream",
     "text": [
      "\n",
      "[notice] A new release of pip is available: 23.3.1 -> 24.0\n",
      "[notice] To update, run: python.exe -m pip install --upgrade pip\n"
     ]
    }
   ],
   "source": [
    "pip install mysql.connector"
   ]
  },
  {
   "cell_type": "code",
   "execution_count": 2,
   "metadata": {},
   "outputs": [
    {
     "name": "stdout",
     "output_type": "stream",
     "text": [
      "Requirement already satisfied: ahpy in c:\\users\\annisa intan nuraini\\appdata\\local\\programs\\python\\python312\\lib\\site-packages (2.0)Note: you may need to restart the kernel to use updated packages.\n",
      "\n",
      "Requirement already satisfied: numpy in c:\\users\\annisa intan nuraini\\appdata\\local\\programs\\python\\python312\\lib\\site-packages (from ahpy) (1.26.2)\n",
      "Requirement already satisfied: scipy in c:\\users\\annisa intan nuraini\\appdata\\local\\programs\\python\\python312\\lib\\site-packages (from ahpy) (1.13.0)\n"
     ]
    },
    {
     "name": "stderr",
     "output_type": "stream",
     "text": [
      "\n",
      "[notice] A new release of pip is available: 23.3.1 -> 24.0\n",
      "[notice] To update, run: python.exe -m pip install --upgrade pip\n"
     ]
    }
   ],
   "source": [
    "pip install ahpy"
   ]
  },
  {
   "cell_type": "code",
   "execution_count": 8,
   "metadata": {},
   "outputs": [
    {
     "name": "stdout",
     "output_type": "stream",
     "text": [
      "Criteria Rows: [('harga',), ('kinerja',), ('keamanan',), ('kapasitas baterai',), ('kenyamanan',), ('tingkat penjualan',)]\n",
      "Alternative Rows: [('Ioniq',), ('Air EV',), ('Nissan Leaf',), ('Lexus',), ('Kia',)]\n"
     ]
    }
   ],
   "source": [
    "import mysql.connector\n",
    "import ahpy\n",
    "\n",
    "# Connect to the MySQL database\n",
    "connection = mysql.connector.connect(\n",
    "    host='localhost',\n",
    "    user='root',\n",
    "    password='',\n",
    "    database='electric_car'\n",
    ")\n",
    "cursor = connection.cursor()\n",
    "\n",
    "# Fetch criteria and alternatives from the database\n",
    "cursor.execute(\"SELECT DISTINCT criterion1 FROM criteria_comparisons UNION SELECT DISTINCT criterion2 FROM criteria_comparisons\")\n",
    "criteria_rows = cursor.fetchall()\n",
    "print(\"Criteria Rows:\", criteria_rows)  # Debugging: print criteria rows\n",
    "\n",
    "criterias = [row[0] for row in criteria_rows]\n",
    "\n",
    "cursor.execute(\"SELECT DISTINCT alternative1 FROM alternative_comparisons UNION SELECT DISTINCT alternative2 FROM alternative_comparisons\")\n",
    "alternative_rows = cursor.fetchall()\n",
    "print(\"Alternative Rows:\", alternative_rows)  # Debugging: print alternative rows\n",
    "\n",
    "alternatives = [row[0] for row in alternative_rows]\n",
    "\n",
    "# Fetch criteria comparisons from the database\n",
    "cursor.execute(\"SELECT criterion1, criterion2, value FROM criteria_comparisons\")\n",
    "criteria_comparisons = {(row[0], row[1]): row[2] for row in cursor.fetchall()}\n",
    "\n",
    "# Fetch alternative comparisons from the database\n",
    "cursor.execute(\"SELECT criterion, alternative1, alternative2, value FROM alternative_comparisons\")\n",
    "alternative_comparisons = {}\n",
    "for row in cursor.fetchall():\n",
    "    criterion, alternative1, alternative2, value = row\n",
    "    if criterion not in alternative_comparisons:\n",
    "        alternative_comparisons[criterion] = {}\n",
    "    alternative_comparisons[criterion][(alternative1, alternative2)] = value\n",
    "\n",
    "# Close the database connection\n",
    "connection.close()\n",
    "\n",
    "# Create the AHP model for criteria\n",
    "criteria_ahp = ahpy.Compare('Criteria', criteria_comparisons, precision=3)\n",
    "\n",
    "# Create the AHP models for alternatives with respect to each criterion\n",
    "alternative_ahp = {}\n",
    "for criterion in criterias:\n",
    "    alternative_ahp[criterion] = ahpy.Compare(criterion, alternative_comparisons[criterion], precision=3)\n",
    "\n",
    "# Combine the criteria and alternative priorities to calculate the overall scores\n",
    "overall_scores = {}\n",
    "for alt in alternatives:\n",
    "    overall_scores[alt] = sum(criteria_ahp.target_weights[crit] * alternative_ahp[crit].target_weights[alt] for crit in criterias)\n"
   ]
  },
  {
   "cell_type": "code",
   "execution_count": 11,
   "metadata": {},
   "outputs": [
    {
     "name": "stdout",
     "output_type": "stream",
     "text": [
      "Overall Scores: {'Ioniq': 0.225103, 'Air EV': 0.208314, 'Nissan Leaf': 0.116361, 'Lexus': 0.19560900000000003, 'Kia': 0.255373}\n"
     ]
    }
   ],
   "source": [
    "# Insert results into the database\n",
    "connection = mysql.connector.connect(\n",
    "    host='localhost',\n",
    "    user='root',\n",
    "    password='',\n",
    "    database='electric_car'\n",
    ")\n",
    "cursor = connection.cursor()\n",
    "\n",
    "cursor.execute(\"DELETE FROM ahp_results\")\n",
    "for idx, (alternative, score) in enumerate(sorted(overall_scores.items(), key=lambda item: item[1], reverse=True), start=1):\n",
    "    cursor.execute(\"INSERT INTO ahp_results (id, alternative, score) VALUES (%s, %s, %s)\", (idx, alternative, float(score)))\n",
    "\n",
    "# Commit the transaction\n",
    "connection.commit()\n",
    "connection.close()\n",
    "\n",
    "# Print overall scores for debugging\n",
    "print(\"Overall Scores:\", overall_scores)"
   ]
  }
 ],
 "metadata": {
  "kernelspec": {
   "display_name": "Python 3",
   "language": "python",
   "name": "python3"
  },
  "language_info": {
   "codemirror_mode": {
    "name": "ipython",
    "version": 3
   },
   "file_extension": ".py",
   "mimetype": "text/x-python",
   "name": "python",
   "nbconvert_exporter": "python",
   "pygments_lexer": "ipython3",
   "version": "3.12.1"
  }
 },
 "nbformat": 4,
 "nbformat_minor": 2
}
